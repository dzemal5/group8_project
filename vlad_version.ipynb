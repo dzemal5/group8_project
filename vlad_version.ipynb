{
 "cells": [
  {
   "cell_type": "code",
   "execution_count": 1,
   "metadata": {},
   "outputs": [
    {
     "name": "stderr",
     "output_type": "stream",
     "text": [
      "c:\\Users\\kidal\\anaconda3\\envs\\ai_dev\\lib\\site-packages\\pydantic\\_internal\\_config.py:341: UserWarning: Valid config keys have changed in V2:\n",
      "* 'allow_population_by_field_name' has been renamed to 'populate_by_name'\n",
      "* 'smart_union' has been removed\n",
      "  warnings.warn(message, UserWarning)\n"
     ]
    }
   ],
   "source": [
    "from dotenv import load_dotenv\n",
    "from crewai import Crew\n",
    "from textwrap import dedent\n",
    "from datetime import date\n",
    "import json\n",
    "import os\n",
    "import requests\n",
    "from crewai import Agent, Task\n",
    "from langchain.llms import OpenAI\n",
    "from langchain_openai import ChatOpenAI\n",
    "from langchain.tools import tool\n",
    "import gradio as gr"
   ]
  },
  {
   "cell_type": "code",
   "execution_count": 2,
   "metadata": {},
   "outputs": [
    {
     "name": "stdout",
     "output_type": "stream",
     "text": [
      "None\n",
      "None\n"
     ]
    }
   ],
   "source": [
    "# Load environment variables.\n",
    "load_dotenv()\n",
    "# Set up API keys\n",
    "SERPER_API_KEY = os.getenv(\"SERPER_API_KEY\")\n",
    "OPENAI_API_KEY = os.getenv(\"OPENAI_API_KEY\")\n",
    "print(SERPER_API_KEY)\n",
    "print(OPENAI_API_KEY)\n",
    "\n",
    "OPENAI_MODEL = \"gpt-3.5-turbo\"\n"
   ]
  },
  {
   "cell_type": "code",
   "execution_count": 3,
   "metadata": {},
   "outputs": [],
   "source": [
    "# SearchTools class with search_internet method\n",
    "class SearchTools:\n",
    "    def search_internet(self, query):\n",
    "        \"\"\"Search the internet and return relevant results\"\"\"\n",
    "        top_result_to_return = 4\n",
    "        url = \"https://google.serper.dev/search\"\n",
    "        payload = json.dumps({\"q\": query})\n",
    "        headers = {\n",
    "            'X-API-KEY': SERPER_API_KEY,\n",
    "            'content-type': 'application/json'\n",
    "        }\n",
    "        response = requests.post(url, headers=headers, data=payload)\n",
    "\n",
    "        if response.status_code != 200:\n",
    "            return {\"error\": \"Error occurred while searching the internet.\"}\n",
    "\n",
    "        try:\n",
    "            results = response.json().get('organic', [])\n",
    "        except KeyError:\n",
    "            return {\"error\": \"No relevant search results found.\"}\n",
    "\n",
    "        if not results:\n",
    "            return {\"error\": \"Sorry, no relevant results were found for this search.\"}\n",
    "\n",
    "        output = []\n",
    "        for result in results[:top_result_to_return]:\n",
    "            output.append({\n",
    "                \"title\": result.get('title', 'No title available'),\n",
    "                \"link\": result.get('link', 'No link available'),\n",
    "                \"snippet\": result.get('snippet', 'No snippet available')\n",
    "            })\n",
    "\n",
    "        return {\"results\": output}"
   ]
  },
  {
   "cell_type": "code",
   "execution_count": 4,
   "metadata": {},
   "outputs": [],
   "source": [
    "# Define agent classes that execute tasks using the tools provided\n",
    "class CaviarExpert:\n",
    "    def __init__(self, search_tool):\n",
    "        self.search_tool = search_tool\n",
    "\n",
    "    def recommend_caviar(self, taste_profile, texture_preference, budget):\n",
    "        query = f\"Luxury caviar suppliers for taste profile '{taste_profile}' and texture '{texture_preference}' under budget {budget} USD.\"\n",
    "        result = self.search_tool.search_internet(query)\n",
    "        return result\n",
    "\n",
    "class Sommelier:\n",
    "    def __init__(self, search_tool):\n",
    "        self.search_tool = search_tool\n",
    "\n",
    "    def recommend_champagne(self, taste_profile, texture_preference):\n",
    "        query = f\"Best luxury champagne pairing for caviar with taste profile '{taste_profile}' and texture '{texture_preference}'.\"\n",
    "        result = self.search_tool.search_internet(query)\n",
    "        return result\n",
    "\n",
    "class ContentCurator:\n",
    "    def __init__(self, search_tool):\n",
    "        self.search_tool = search_tool\n",
    "\n",
    "    def curate_content(self):\n",
    "        query = \"Luxury dining trends for caviar and champagne pairings.\"\n",
    "        result = self.search_tool.search_internet(query)\n",
    "        return result"
   ]
  },
  {
   "cell_type": "code",
   "execution_count": 5,
   "metadata": {},
   "outputs": [],
   "source": [
    "def format_results(results, limit=2):\n",
    "    \"\"\"Format the search results into a readable text, showing only the titles.\"\"\"\n",
    "    if 'results' in results:\n",
    "        formatted_output = []\n",
    "        for result in results['results'][:limit]:  # Limit the number of results\n",
    "            title = result.get('title', 'No title available')\n",
    "            formatted_output.append(f\"• {title}\")\n",
    "        return \"\\n\".join(formatted_output)\n",
    "    else:\n",
    "        return \"No results available.\""
   ]
  },
  {
   "cell_type": "code",
   "execution_count": 6,
   "metadata": {},
   "outputs": [],
   "source": [
    "class CaviarCrewSystem:\n",
    "    def __init__(self, taste_profile, texture_preference, budget):\n",
    "        self.taste_profile = taste_profile\n",
    "        self.texture_preference = texture_preference\n",
    "        self.budget = budget\n",
    "\n",
    "        # Instantiate the search tool and agents\n",
    "        self.search_tool = SearchTools()\n",
    "        self.caviar_expert = CaviarExpert(self.search_tool)\n",
    "        self.sommelier = Sommelier(self.search_tool)\n",
    "        self.content_curator = ContentCurator(self.search_tool)\n",
    "\n",
    "    def run(self):\n",
    "        try:\n",
    "            # Execute the tasks using agents\n",
    "            print(\"Requesting caviar recommendations...\")\n",
    "            caviar_recommendation = self.caviar_expert.recommend_caviar(\n",
    "                self.taste_profile, self.texture_preference, self.budget\n",
    "            )\n",
    "            formatted_caviar_recommendation = format_results(caviar_recommendation)\n",
    "\n",
    "            print(\"Requesting champagne recommendations...\")\n",
    "            champagne_recommendation = self.sommelier.recommend_champagne(\n",
    "                self.taste_profile, self.texture_preference\n",
    "            )\n",
    "            formatted_champagne_recommendation = format_results(champagne_recommendation)\n",
    "\n",
    "            print(\"Requesting luxury dining content...\")\n",
    "            luxury_content = self.content_curator.curate_content()\n",
    "            formatted_luxury_content = format_results(luxury_content)\n",
    "\n",
    "            # Format the response based on agent results\n",
    "            response = f\"\"\"\n",
    "            Your Imperial Highness,\n",
    "\n",
    "            Based on your exquisite preferences, I am honored to present our recommendation:\n",
    "\n",
    "            🥄 Caviar Selection:\n",
    "            {formatted_caviar_recommendation}\n",
    "\n",
    "            🍾 Champagne Pairing:\n",
    "            {formatted_champagne_recommendation}\n",
    "\n",
    "            📜 Exclusive Insights:\n",
    "            {formatted_luxury_content}\n",
    "\n",
    "            May this experience elevate your senses and leave an indelible mark on your palate.\n",
    "\n",
    "            Bon appétit, Your Highness.\n",
    "            \"\"\"\n",
    "\n",
    "            # Log the full response for debugging\n",
    "            print(f\"Final Response: {response}\")\n",
    "            return response\n",
    "\n",
    "        except Exception as e:\n",
    "            return f\"An error occurred: {e}\""
   ]
  },
  {
   "cell_type": "code",
   "execution_count": 7,
   "metadata": {},
   "outputs": [],
   "source": [
    "# Gradio interface to interact with the CaviarCrewSystem class\n",
    "def caviar_coach(taste_profile, texture_preference, budget):\n",
    "    caviar_crew = CaviarCrewSystem(taste_profile, texture_preference, int(budget))\n",
    "    final_response = caviar_crew.run()\n",
    "    \n",
    "    # Log the response passed to Gradio for debugging\n",
    "    print(f\"Response Passed to Gradio: {final_response}\")\n",
    "    \n",
    "    return final_response"
   ]
  },
  {
   "cell_type": "code",
   "execution_count": 8,
   "metadata": {},
   "outputs": [],
   "source": [
    "# Create Gradio Interface\n",
    "iface = gr.Interface(\n",
    "    fn=caviar_coach,\n",
    "    inputs=[\n",
    "        gr.Dropdown([\"Mild & Delicate\", \"Rich & Buttery\", \"Bold & Intense\"], label=\"Preferred Taste Profile\"),\n",
    "        gr.Dropdown([\"Soft & Creamy\", \"Firm & Distinct\"], label=\"Preferred Texture\"),\n",
    "        gr.Slider(minimum=50, maximum=1000, step=50, label=\"Budget (USD)\")\n",
    "    ],\n",
    "    outputs=gr.Textbox(label=\"Your Royal Recommendation\"),\n",
    "    title=\"🍾 Imperial Caviar Connoisseur 🥂\",\n",
    "    description=\"Your Imperial Highness, please share your preferences for an exquisite caviar experience.\"\n",
    ")"
   ]
  },
  {
   "cell_type": "code",
   "execution_count": 9,
   "metadata": {},
   "outputs": [
    {
     "name": "stdout",
     "output_type": "stream",
     "text": [
      "Running on local URL:  http://127.0.0.1:7861\n",
      "\n",
      "To create a public link, set `share=True` in `launch()`.\n"
     ]
    },
    {
     "data": {
      "text/html": [
       "<div><iframe src=\"http://127.0.0.1:7861/\" width=\"100%\" height=\"500\" allow=\"autoplay; camera; microphone; clipboard-read; clipboard-write;\" frameborder=\"0\" allowfullscreen></iframe></div>"
      ],
      "text/plain": [
       "<IPython.core.display.HTML object>"
      ]
     },
     "metadata": {},
     "output_type": "display_data"
    }
   ],
   "source": [
    "\n",
    "if __name__ == \"__main__\":\n",
    "    iface.launch()"
   ]
  }
 ],
 "metadata": {
  "kernelspec": {
   "display_name": "ai_dev",
   "language": "python",
   "name": "python3"
  },
  "language_info": {
   "codemirror_mode": {
    "name": "ipython",
    "version": 3
   },
   "file_extension": ".py",
   "mimetype": "text/x-python",
   "name": "python",
   "nbconvert_exporter": "python",
   "pygments_lexer": "ipython3",
   "version": "3.10.14"
  }
 },
 "nbformat": 4,
 "nbformat_minor": 2
}
