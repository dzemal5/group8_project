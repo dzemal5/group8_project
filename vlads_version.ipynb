{
 "cells": [
  {
   "cell_type": "code",
   "execution_count": 45,
   "metadata": {},
   "outputs": [],
   "source": [
    "# pip install google-generativeai\n",
    "import os\n",
    "import gradio as gr\n",
    "from dotenv import load_dotenv\n",
    "import google.generativeai as palm\n",
    "import webbrowser\n",
    "import re"
   ]
  },
  {
   "cell_type": "code",
   "execution_count": 46,
   "metadata": {},
   "outputs": [],
   "source": [
    "# Load environment variables\n",
    "load_dotenv()\n",
    "GOOGLE_API_KEY = os.getenv(\"GOOGLE_PALM_API_KEY\")\n",
    "# Configure the API\n",
    "palm.configure(api_key= GOOGLE_API_KEY)"
   ]
  },
  {
   "cell_type": "code",
   "execution_count": 47,
   "metadata": {},
   "outputs": [],
   "source": [
    "def generate_text(prompt):\n",
    "    completion = palm.generate_text(\n",
    "        model=\"models/text-bison-001\",\n",
    "        prompt=prompt,\n",
    "        temperature=0.7,\n",
    "        max_output_tokens=800,\n",
    "    )\n",
    "    return completion.result"
   ]
  },
  {
   "cell_type": "code",
   "execution_count": 48,
   "metadata": {},
   "outputs": [],
   "source": [
    "def parse_response(response):\n",
    "    # Use regular expressions to find the sections more flexibly\n",
    "    caviar_selection_match = re.search(r'Caviar Selection:\\s*(.*)', response)\n",
    "    champagne_pairing_match = re.search(r'Champagne Pairing:\\s*(.*)', response)\n",
    "    exclusive_insights_match = re.search(r'Exclusive Insights:\\s*([\\s\\S]*)', response)\n",
    "\n",
    "    caviar_selection = caviar_selection_match.group(1) if caviar_selection_match else None\n",
    "    champagne_pairing = champagne_pairing_match.group(1) if champagne_pairing_match else None\n",
    "\n",
    "    exclusive_insights = []\n",
    "    if exclusive_insights_match:\n",
    "        insights_section = exclusive_insights_match.group(1).strip()\n",
    "        exclusive_insights = [line.strip().replace('*', '').strip() for line in insights_section.splitlines() if line.strip().startswith('*')]\n",
    "\n",
    "    return caviar_selection, champagne_pairing, exclusive_insights\n",
    "\n",
    "def caviar_coach(taste_profile, texture_preference, budget):\n",
    "    image_url = \"https://s.yimg.com/ny/api/res/1.2/.11X0wngxtZy7WtNp0r.2w--/YXBwaWQ9aGlnaGxhbmRlcjt3PTEyMDA7aD02NzQ-/https://media.zenfs.com/en/tasting_table_543/13b649b5330e192063fa2d41441150f3\"\n",
    "    prompt = f\"\"\"\n",
    "    As a luxury caviar expert, provide a personalized recommendation based on the following preferences:\n",
    "    Taste Profile: {taste_profile}\n",
    "    Texture Preference: {texture_preference}\n",
    "    Budget: ${budget}\n",
    "\n",
    "    Please provide:\n",
    "    1. A specific caviar recommendation\n",
    "    2. A champagne pairing suggestion\n",
    "    3. Some exclusive insights or tips for enjoying this caviar experience\n",
    "\n",
    "    Format your response as follows:\n",
    "    Caviar Selection: [Your recommendation]\n",
    "    Champagne Pairing: [Your pairing suggestion]\n",
    "    Exclusive Insights: [Your insights or tips]\n",
    "    \"\"\"\n",
    "\n",
    "    try:\n",
    "        # Get the generated response from the model\n",
    "        response = generate_text(prompt)\n",
    "        \n",
    "        # Parse the response into sections using regular expressions\n",
    "        caviar_selection, champagne_pairing, exclusive_insights = parse_response(response)\n",
    "        \n",
    "        # Format the response properly\n",
    "        formatted_response = f\"<div style='font-family: Arial, sans-serif; line-height: 1.6;'>\"\n",
    "        formatted_response += \"<strong>Your Imperial Highness,</strong><br><br>\"\n",
    "        formatted_response += \"Based on your exquisite preferences, I am honored to present our recommendation:<br><br>\"\n",
    "        caviar_selection.replace(\"**\",\"\")\n",
    "        \n",
    "        if caviar_selection:\n",
    "            formatted_response += f\"Caviar Selection: {caviar_selection}<br>\"\n",
    "        else:\n",
    "            formatted_response += \"<strong>Caviar Selection:</strong> Not available<br>\"\n",
    "        \n",
    "        if champagne_pairing:\n",
    "            formatted_response += f\"Champagne Pairing: {champagne_pairing}<br><br>\"\n",
    "        else:\n",
    "            formatted_response += \"<strong>Champagne Pairing:</strong> Not available<br><br>\"\n",
    "        \n",
    "        if exclusive_insights:\n",
    "            formatted_response += \"<strong>Exclusive Insights:</strong><br>\"\n",
    "            insights_html = \"<br>\".join([f\"• {insight}\" for insight in exclusive_insights if insight])  # Remove empty bullet points\n",
    "            formatted_response += f\"{insights_html}<br><br>\"\n",
    "        else:\n",
    "            formatted_response += \"<strong>Exclusive Insights:</strong> Not available<br><br>\"\n",
    "        # Add image to the response\n",
    "        formatted_response += f\"<img src='{image_url}' alt='Caviar Image' style='max-width: 50%; height: auto;'><br><br>\"\n",
    "        formatted_response += \"May this experience elevate your senses and leave an indelible mark on your palate.<br><br>\"\n",
    "        formatted_response += \"Bon appétit, Your Highness.<br><br>\"\n",
    "        formatted_response += \"For more exclusive insights, visit us at: <a href='https://www.caviart.club' target='_blank'>here</a></div>\"\n",
    "        youtube_video_html = \"\"\"<iframe width=\"560\" height=\"315\" src=\"https://www.youtube.com/embed/0QrUq7XWfvw\" \n",
    "                             title=\"YouTube video player\" frameborder=\"0\" allow=\"accelerometer; autoplay; clipboard-write; \n",
    "                             encrypted-media; gyroscope; picture-in-picture\" allowfullscreen></iframe>\"\"\"\n",
    "        return formatted_response,youtube_video_html\n",
    "    except Exception as e:\n",
    "        return f\"An error occurred: {str(e)}. Please check if the API key is set correctly.\"\n"
   ]
  },
  {
   "cell_type": "code",
   "execution_count": 49,
   "metadata": {},
   "outputs": [],
   "source": [
    "iface = gr.Interface(\n",
    "    fn=caviar_coach,\n",
    "    inputs=[\n",
    "        gr.Dropdown([\"Mild & Delicate\", \"Rich & Buttery\", \"Bold & Intense\"], label=\"Preferred Taste Profile\"),\n",
    "        gr.Dropdown([\"Soft & Creamy\", \"Firm & Distinct\"], label=\"Preferred Texture\"),\n",
    "        gr.Slider(minimum=50, maximum=1000, step=50, label=\"Budget (USD)\")\n",
    "    ],\n",
    "    outputs=[\n",
    "        gr.HTML(label=\"Your Royal Recommendation\"),\n",
    "        # gr.Video(label=\"Video Player\")\n",
    "        gr.HTML(label=\"YouTube Video Player\")\n",
    "    ],\n",
    "    title=\"🍾 Caviart Club 🥂\",\n",
    "    description=\"Your Imperial Highness, please share your preferences for an exquisite caviar experience.\",\n",
    ")\n"
   ]
  },
  {
   "cell_type": "code",
   "execution_count": 50,
   "metadata": {},
   "outputs": [
    {
     "name": "stdout",
     "output_type": "stream",
     "text": [
      "Running on local URL:  http://127.0.0.1:7866\n",
      "Running on public URL: https://6cdad4a8d75cc09755.gradio.live\n",
      "\n",
      "This share link expires in 72 hours. For free permanent hosting and GPU upgrades, run `gradio deploy` from Terminal to deploy to Spaces (https://huggingface.co/spaces)\n"
     ]
    },
    {
     "data": {
      "text/html": [
       "<div><iframe src=\"https://6cdad4a8d75cc09755.gradio.live\" width=\"100%\" height=\"500\" allow=\"autoplay; camera; microphone; clipboard-read; clipboard-write;\" frameborder=\"0\" allowfullscreen></iframe></div>"
      ],
      "text/plain": [
       "<IPython.core.display.HTML object>"
      ]
     },
     "metadata": {},
     "output_type": "display_data"
    }
   ],
   "source": [
    "if __name__ == \"__main__\":\n",
    "    iface.launch(share=True)"
   ]
  }
 ],
 "metadata": {
  "kernelspec": {
   "display_name": "ai_dev",
   "language": "python",
   "name": "python3"
  },
  "language_info": {
   "codemirror_mode": {
    "name": "ipython",
    "version": 3
   },
   "file_extension": ".py",
   "mimetype": "text/x-python",
   "name": "python",
   "nbconvert_exporter": "python",
   "pygments_lexer": "ipython3",
   "version": "3.10.14"
  }
 },
 "nbformat": 4,
 "nbformat_minor": 2
}
